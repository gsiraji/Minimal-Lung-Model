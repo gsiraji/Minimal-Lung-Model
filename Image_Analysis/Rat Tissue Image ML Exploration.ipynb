{
 "cells": [
  {
   "cell_type": "code",
   "execution_count": 1,
   "id": "57711a62",
   "metadata": {},
   "outputs": [],
   "source": [
    "import pandas as pd\n",
    "import numpy as np"
   ]
  },
  {
   "cell_type": "code",
   "execution_count": 2,
   "id": "485653aa",
   "metadata": {},
   "outputs": [],
   "source": [
    "df = pd.read_excel(\"image_data_complete_oldMLI.xlsx\")"
   ]
  },
  {
   "cell_type": "code",
   "execution_count": 3,
   "id": "6e98c86e",
   "metadata": {},
   "outputs": [
    {
     "data": {
      "text/html": [
       "<div>\n",
       "<style scoped>\n",
       "    .dataframe tbody tr th:only-of-type {\n",
       "        vertical-align: middle;\n",
       "    }\n",
       "\n",
       "    .dataframe tbody tr th {\n",
       "        vertical-align: top;\n",
       "    }\n",
       "\n",
       "    .dataframe thead th {\n",
       "        text-align: right;\n",
       "    }\n",
       "</style>\n",
       "<table border=\"1\" class=\"dataframe\">\n",
       "  <thead>\n",
       "    <tr style=\"text-align: right;\">\n",
       "      <th></th>\n",
       "      <th>day</th>\n",
       "      <th>slide</th>\n",
       "      <th>subslide</th>\n",
       "      <th>tissue area fraction</th>\n",
       "      <th>r1</th>\n",
       "      <th>length of tissue (px)</th>\n",
       "      <th>width of tissue (px)</th>\n",
       "      <th>number_of_lumens</th>\n",
       "      <th>R_equiv</th>\n",
       "      <th>Rmidpoint</th>\n",
       "      <th>...</th>\n",
       "      <th>area of tissue se6</th>\n",
       "      <th>area of tissue se7</th>\n",
       "      <th>area of tissue se8</th>\n",
       "      <th>area of tissue se9</th>\n",
       "      <th>area of tissue se10</th>\n",
       "      <th>AN Tx</th>\n",
       "      <th>ID</th>\n",
       "      <th>Ventilation</th>\n",
       "      <th>MLI</th>\n",
       "      <th>MLI_edit pics</th>\n",
       "    </tr>\n",
       "  </thead>\n",
       "  <tbody>\n",
       "    <tr>\n",
       "      <th>0</th>\n",
       "      <td>0</td>\n",
       "      <td>1</td>\n",
       "      <td>1</td>\n",
       "      <td>0.353572</td>\n",
       "      <td>34</td>\n",
       "      <td>43645</td>\n",
       "      <td>129.777248</td>\n",
       "      <td>6</td>\n",
       "      <td>39.743631</td>\n",
       "      <td>195.791943</td>\n",
       "      <td>...</td>\n",
       "      <td>83024.750</td>\n",
       "      <td>0.000</td>\n",
       "      <td>0.0</td>\n",
       "      <td>0.0</td>\n",
       "      <td>0.0</td>\n",
       "      <td>SAL</td>\n",
       "      <td>315</td>\n",
       "      <td>NV</td>\n",
       "      <td>32.232715</td>\n",
       "      <td>32.109248</td>\n",
       "    </tr>\n",
       "    <tr>\n",
       "      <th>1</th>\n",
       "      <td>0</td>\n",
       "      <td>1</td>\n",
       "      <td>2</td>\n",
       "      <td>0.305520</td>\n",
       "      <td>34</td>\n",
       "      <td>37543</td>\n",
       "      <td>130.366220</td>\n",
       "      <td>10</td>\n",
       "      <td>33.481917</td>\n",
       "      <td>157.654154</td>\n",
       "      <td>...</td>\n",
       "      <td>129481.125</td>\n",
       "      <td>126373.125</td>\n",
       "      <td>0.0</td>\n",
       "      <td>0.0</td>\n",
       "      <td>0.0</td>\n",
       "      <td>SAL</td>\n",
       "      <td>315</td>\n",
       "      <td>NV</td>\n",
       "      <td>32.232715</td>\n",
       "      <td>32.109248</td>\n",
       "    </tr>\n",
       "    <tr>\n",
       "      <th>2</th>\n",
       "      <td>0</td>\n",
       "      <td>1</td>\n",
       "      <td>3</td>\n",
       "      <td>0.414067</td>\n",
       "      <td>34</td>\n",
       "      <td>52854</td>\n",
       "      <td>125.501192</td>\n",
       "      <td>6</td>\n",
       "      <td>43.388849</td>\n",
       "      <td>211.587573</td>\n",
       "      <td>...</td>\n",
       "      <td>0.000</td>\n",
       "      <td>0.000</td>\n",
       "      <td>0.0</td>\n",
       "      <td>0.0</td>\n",
       "      <td>0.0</td>\n",
       "      <td>SAL</td>\n",
       "      <td>315</td>\n",
       "      <td>NV</td>\n",
       "      <td>32.232715</td>\n",
       "      <td>32.109248</td>\n",
       "    </tr>\n",
       "    <tr>\n",
       "      <th>3</th>\n",
       "      <td>0</td>\n",
       "      <td>1</td>\n",
       "      <td>4</td>\n",
       "      <td>0.381086</td>\n",
       "      <td>34</td>\n",
       "      <td>52793</td>\n",
       "      <td>115.638304</td>\n",
       "      <td>3</td>\n",
       "      <td>69.949062</td>\n",
       "      <td>204.957921</td>\n",
       "      <td>...</td>\n",
       "      <td>0.000</td>\n",
       "      <td>0.000</td>\n",
       "      <td>0.0</td>\n",
       "      <td>0.0</td>\n",
       "      <td>0.0</td>\n",
       "      <td>SAL</td>\n",
       "      <td>315</td>\n",
       "      <td>NV</td>\n",
       "      <td>32.232715</td>\n",
       "      <td>32.109248</td>\n",
       "    </tr>\n",
       "    <tr>\n",
       "      <th>4</th>\n",
       "      <td>0</td>\n",
       "      <td>1</td>\n",
       "      <td>5</td>\n",
       "      <td>0.367598</td>\n",
       "      <td>34</td>\n",
       "      <td>51599</td>\n",
       "      <td>114.126650</td>\n",
       "      <td>6</td>\n",
       "      <td>36.843577</td>\n",
       "      <td>201.110575</td>\n",
       "      <td>...</td>\n",
       "      <td>124475.875</td>\n",
       "      <td>0.000</td>\n",
       "      <td>0.0</td>\n",
       "      <td>0.0</td>\n",
       "      <td>0.0</td>\n",
       "      <td>SAL</td>\n",
       "      <td>315</td>\n",
       "      <td>NV</td>\n",
       "      <td>32.232715</td>\n",
       "      <td>32.109248</td>\n",
       "    </tr>\n",
       "  </tbody>\n",
       "</table>\n",
       "<p>5 rows × 26 columns</p>\n",
       "</div>"
      ],
      "text/plain": [
       "   day  slide  subslide  tissue area fraction  r1  length of tissue (px)  \\\n",
       "0    0      1         1              0.353572  34                  43645   \n",
       "1    0      1         2              0.305520  34                  37543   \n",
       "2    0      1         3              0.414067  34                  52854   \n",
       "3    0      1         4              0.381086  34                  52793   \n",
       "4    0      1         5              0.367598  34                  51599   \n",
       "\n",
       "   width of tissue (px)  number_of_lumens    R_equiv   Rmidpoint  ...  \\\n",
       "0            129.777248                 6  39.743631  195.791943  ...   \n",
       "1            130.366220                10  33.481917  157.654154  ...   \n",
       "2            125.501192                 6  43.388849  211.587573  ...   \n",
       "3            115.638304                 3  69.949062  204.957921  ...   \n",
       "4            114.126650                 6  36.843577  201.110575  ...   \n",
       "\n",
       "   area of tissue se6  area of tissue se7  area of tissue se8  \\\n",
       "0           83024.750               0.000                 0.0   \n",
       "1          129481.125          126373.125                 0.0   \n",
       "2               0.000               0.000                 0.0   \n",
       "3               0.000               0.000                 0.0   \n",
       "4          124475.875               0.000                 0.0   \n",
       "\n",
       "   area of tissue se9  area of tissue se10  AN Tx   ID  Ventilation  \\\n",
       "0                 0.0                  0.0    SAL  315           NV   \n",
       "1                 0.0                  0.0    SAL  315           NV   \n",
       "2                 0.0                  0.0    SAL  315           NV   \n",
       "3                 0.0                  0.0    SAL  315           NV   \n",
       "4                 0.0                  0.0    SAL  315           NV   \n",
       "\n",
       "         MLI  MLI_edit pics  \n",
       "0  32.232715      32.109248  \n",
       "1  32.232715      32.109248  \n",
       "2  32.232715      32.109248  \n",
       "3  32.232715      32.109248  \n",
       "4  32.232715      32.109248  \n",
       "\n",
       "[5 rows x 26 columns]"
      ]
     },
     "execution_count": 3,
     "metadata": {},
     "output_type": "execute_result"
    }
   ],
   "source": [
    "df.head()"
   ]
  },
  {
   "cell_type": "code",
   "execution_count": 4,
   "id": "b2c1c8a4",
   "metadata": {},
   "outputs": [
    {
     "data": {
      "text/html": [
       "<div>\n",
       "<style scoped>\n",
       "    .dataframe tbody tr th:only-of-type {\n",
       "        vertical-align: middle;\n",
       "    }\n",
       "\n",
       "    .dataframe tbody tr th {\n",
       "        vertical-align: top;\n",
       "    }\n",
       "\n",
       "    .dataframe thead th {\n",
       "        text-align: right;\n",
       "    }\n",
       "</style>\n",
       "<table border=\"1\" class=\"dataframe\">\n",
       "  <thead>\n",
       "    <tr style=\"text-align: right;\">\n",
       "      <th></th>\n",
       "      <th>tissue area fraction</th>\n",
       "      <th>r1</th>\n",
       "      <th>length of tissue (px)</th>\n",
       "      <th>width of tissue (px)</th>\n",
       "      <th>number_of_lumens</th>\n",
       "      <th>R_equiv</th>\n",
       "      <th>Rmidpoint</th>\n",
       "      <th>T_tilde</th>\n",
       "      <th>area of tissue (px^2)</th>\n",
       "      <th>area of tissue se2</th>\n",
       "      <th>area of tissue se3</th>\n",
       "    </tr>\n",
       "  </thead>\n",
       "  <tbody>\n",
       "    <tr>\n",
       "      <th>count</th>\n",
       "      <td>233.000000</td>\n",
       "      <td>233.0</td>\n",
       "      <td>233.000000</td>\n",
       "      <td>233.000000</td>\n",
       "      <td>233.000000</td>\n",
       "      <td>233.000000</td>\n",
       "      <td>233.000000</td>\n",
       "      <td>233.000000</td>\n",
       "      <td>2.330000e+02</td>\n",
       "      <td>2.330000e+02</td>\n",
       "      <td>2.330000e+02</td>\n",
       "    </tr>\n",
       "    <tr>\n",
       "      <th>mean</th>\n",
       "      <td>0.428174</td>\n",
       "      <td>34.0</td>\n",
       "      <td>55517.253219</td>\n",
       "      <td>124.060044</td>\n",
       "      <td>7.961373</td>\n",
       "      <td>44.901122</td>\n",
       "      <td>191.536497</td>\n",
       "      <td>25.206430</td>\n",
       "      <td>6.863348e+06</td>\n",
       "      <td>4.831525e+06</td>\n",
       "      <td>2.465157e+06</td>\n",
       "    </tr>\n",
       "    <tr>\n",
       "      <th>std</th>\n",
       "      <td>0.069169</td>\n",
       "      <td>0.0</td>\n",
       "      <td>8205.122597</td>\n",
       "      <td>13.043310</td>\n",
       "      <td>4.076136</td>\n",
       "      <td>25.918249</td>\n",
       "      <td>63.608706</td>\n",
       "      <td>19.085487</td>\n",
       "      <td>1.108285e+06</td>\n",
       "      <td>1.420400e+06</td>\n",
       "      <td>1.233746e+06</td>\n",
       "    </tr>\n",
       "    <tr>\n",
       "      <th>min</th>\n",
       "      <td>0.293869</td>\n",
       "      <td>34.0</td>\n",
       "      <td>34498.000000</td>\n",
       "      <td>95.225538</td>\n",
       "      <td>1.000000</td>\n",
       "      <td>16.334321</td>\n",
       "      <td>1.684088</td>\n",
       "      <td>4.003122</td>\n",
       "      <td>4.710989e+06</td>\n",
       "      <td>2.157830e+06</td>\n",
       "      <td>5.598081e+05</td>\n",
       "    </tr>\n",
       "    <tr>\n",
       "      <th>25%</th>\n",
       "      <td>0.383185</td>\n",
       "      <td>34.0</td>\n",
       "      <td>50687.000000</td>\n",
       "      <td>116.673227</td>\n",
       "      <td>5.000000</td>\n",
       "      <td>29.166551</td>\n",
       "      <td>196.438891</td>\n",
       "      <td>12.709751</td>\n",
       "      <td>6.142670e+06</td>\n",
       "      <td>3.901477e+06</td>\n",
       "      <td>1.699173e+06</td>\n",
       "    </tr>\n",
       "    <tr>\n",
       "      <th>50%</th>\n",
       "      <td>0.422167</td>\n",
       "      <td>34.0</td>\n",
       "      <td>55246.000000</td>\n",
       "      <td>123.169328</td>\n",
       "      <td>7.000000</td>\n",
       "      <td>39.316033</td>\n",
       "      <td>210.722865</td>\n",
       "      <td>19.633807</td>\n",
       "      <td>6.766995e+06</td>\n",
       "      <td>4.619788e+06</td>\n",
       "      <td>2.109136e+06</td>\n",
       "    </tr>\n",
       "    <tr>\n",
       "      <th>75%</th>\n",
       "      <td>0.461358</td>\n",
       "      <td>34.0</td>\n",
       "      <td>61872.000000</td>\n",
       "      <td>129.482714</td>\n",
       "      <td>10.000000</td>\n",
       "      <td>53.174605</td>\n",
       "      <td>221.818420</td>\n",
       "      <td>33.093365</td>\n",
       "      <td>7.395981e+06</td>\n",
       "      <td>5.627669e+06</td>\n",
       "      <td>2.972807e+06</td>\n",
       "    </tr>\n",
       "    <tr>\n",
       "      <th>max</th>\n",
       "      <td>0.688697</td>\n",
       "      <td>34.0</td>\n",
       "      <td>84453.000000</td>\n",
       "      <td>170.373591</td>\n",
       "      <td>23.000000</td>\n",
       "      <td>225.949633</td>\n",
       "      <td>275.560734</td>\n",
       "      <td>133.388298</td>\n",
       "      <td>1.103732e+07</td>\n",
       "      <td>9.649097e+06</td>\n",
       "      <td>7.246100e+06</td>\n",
       "    </tr>\n",
       "  </tbody>\n",
       "</table>\n",
       "</div>"
      ],
      "text/plain": [
       "       tissue area fraction     r1  length of tissue (px)  \\\n",
       "count            233.000000  233.0             233.000000   \n",
       "mean               0.428174   34.0           55517.253219   \n",
       "std                0.069169    0.0            8205.122597   \n",
       "min                0.293869   34.0           34498.000000   \n",
       "25%                0.383185   34.0           50687.000000   \n",
       "50%                0.422167   34.0           55246.000000   \n",
       "75%                0.461358   34.0           61872.000000   \n",
       "max                0.688697   34.0           84453.000000   \n",
       "\n",
       "       width of tissue (px)  number_of_lumens     R_equiv   Rmidpoint  \\\n",
       "count            233.000000        233.000000  233.000000  233.000000   \n",
       "mean             124.060044          7.961373   44.901122  191.536497   \n",
       "std               13.043310          4.076136   25.918249   63.608706   \n",
       "min               95.225538          1.000000   16.334321    1.684088   \n",
       "25%              116.673227          5.000000   29.166551  196.438891   \n",
       "50%              123.169328          7.000000   39.316033  210.722865   \n",
       "75%              129.482714         10.000000   53.174605  221.818420   \n",
       "max              170.373591         23.000000  225.949633  275.560734   \n",
       "\n",
       "          T_tilde  area of tissue (px^2)  area of tissue se2  \\\n",
       "count  233.000000           2.330000e+02        2.330000e+02   \n",
       "mean    25.206430           6.863348e+06        4.831525e+06   \n",
       "std     19.085487           1.108285e+06        1.420400e+06   \n",
       "min      4.003122           4.710989e+06        2.157830e+06   \n",
       "25%     12.709751           6.142670e+06        3.901477e+06   \n",
       "50%     19.633807           6.766995e+06        4.619788e+06   \n",
       "75%     33.093365           7.395981e+06        5.627669e+06   \n",
       "max    133.388298           1.103732e+07        9.649097e+06   \n",
       "\n",
       "       area of tissue se3  \n",
       "count        2.330000e+02  \n",
       "mean         2.465157e+06  \n",
       "std          1.233746e+06  \n",
       "min          5.598081e+05  \n",
       "25%          1.699173e+06  \n",
       "50%          2.109136e+06  \n",
       "75%          2.972807e+06  \n",
       "max          7.246100e+06  "
      ]
     },
     "execution_count": 4,
     "metadata": {},
     "output_type": "execute_result"
    }
   ],
   "source": [
    "df.iloc[:,3:14].describe()"
   ]
  },
  {
   "cell_type": "code",
   "execution_count": 76,
   "id": "9c453499",
   "metadata": {},
   "outputs": [
    {
     "name": "stdout",
     "output_type": "stream",
     "text": [
      "SAL    0.527897\n",
      "ETX    0.472103\n",
      "Name: AN Tx, dtype: float64\n"
     ]
    }
   ],
   "source": [
    "# check what how many of each category we have\n",
    "ANTx = df[\"AN Tx\"].value_counts(sort=True, normalize=True)\n",
    "print(ANTx)"
   ]
  },
  {
   "cell_type": "code",
   "execution_count": 77,
   "id": "f680539c",
   "metadata": {},
   "outputs": [
    {
     "name": "stdout",
     "output_type": "stream",
     "text": [
      "NV      0.291845\n",
      "P20     0.278970\n",
      "SAFE    0.257511\n",
      "P24     0.171674\n",
      "Name: Ventilation, dtype: float64\n"
     ]
    }
   ],
   "source": [
    "Vent = df[\"Ventilation\"].value_counts(sort=True, normalize=True)\n",
    "print(Vent)"
   ]
  },
  {
   "cell_type": "code",
   "execution_count": 78,
   "id": "ffcce7f1",
   "metadata": {},
   "outputs": [
    {
     "name": "stdout",
     "output_type": "stream",
     "text": [
      "7    0.515021\n",
      "0    0.484979\n",
      "Name: day, dtype: float64\n"
     ]
    }
   ],
   "source": [
    "Day = df[\"day\"].value_counts(sort=True, normalize=True)\n",
    "print(Day)"
   ]
  },
  {
   "cell_type": "code",
   "execution_count": 81,
   "id": "16a28fa6",
   "metadata": {},
   "outputs": [
    {
     "name": "stdout",
     "output_type": "stream",
     "text": [
      "            T_tilde                          R_equiv                        \\\n",
      "                min       mean     median        min       mean     median   \n",
      "day AN Tx                                                                    \n",
      "0   ETX    6.395274  27.714826  19.607012  19.433413  49.569376  45.977688   \n",
      "    SAL    4.003122  18.795710  12.787707  17.278249  39.171332  32.156881   \n",
      "7   ETX    7.071705  28.973163  22.537732  16.334321  47.470770  42.480728   \n",
      "    SAL    7.813812  26.080621  22.930186  20.670561  44.457541  40.304146   \n",
      "\n",
      "                 MLI                        \n",
      "                 min       mean     median  \n",
      "day AN Tx                                   \n",
      "0   ETX    18.361103  25.553680  23.909538  \n",
      "    SAL    14.999442  29.269696  32.731915  \n",
      "7   ETX    14.206968  22.951579  22.346922  \n",
      "    SAL    17.928067  21.129327  20.311289  \n"
     ]
    }
   ],
   "source": [
    "df_stats = df.groupby([\"day\",\"AN Tx\"])[[\"T_tilde\", \"R_equiv\",\"MLI\"]].agg([min, np.mean,np.median])\n",
    "print(df_stats)"
   ]
  },
  {
   "cell_type": "code",
   "execution_count": 86,
   "id": "549793d7",
   "metadata": {},
   "outputs": [
    {
     "name": "stdout",
     "output_type": "stream",
     "text": [
      "            mean                                                         \\\n",
      "             MLI               R_equiv               T_tilde              \n",
      "day            0          7          0          7          0          7   \n",
      "AN Tx                                                                     \n",
      "ETX    25.553680  22.951579  49.569376  47.470770  27.714826  28.973163   \n",
      "SAL    29.269696  21.129327  39.171332  44.457541  18.795710  26.080621   \n",
      "\n",
      "          median                                                         \n",
      "             MLI               R_equiv               T_tilde             \n",
      "day            0          7          0          7          0          7  \n",
      "AN Tx                                                                    \n",
      "ETX    23.909538  22.346922  45.977688  42.480728  19.607012  22.537732  \n",
      "SAL    32.731915  20.311289  32.156881  40.304146  12.787707  22.930186  \n"
     ]
    }
   ],
   "source": [
    "df_stats_table = df.pivot_table(values =[\"T_tilde\", \"R_equiv\",\"MLI\"],index= \"AN Tx\",columns = \"day\",aggfunc=[np.mean, np.median])\n",
    "print(df_stats_table)"
   ]
  },
  {
   "cell_type": "code",
   "execution_count": 90,
   "id": "99a6e50c",
   "metadata": {},
   "outputs": [
    {
     "name": "stdout",
     "output_type": "stream",
     "text": [
      "<class 'pandas.core.frame.DataFrame'>\n",
      "MultiIndex: 48 entries, ('SAL', 'NV') to ('ETX', 'P24')\n",
      "Data columns (total 24 columns):\n",
      " #   Column                 Non-Null Count  Dtype  \n",
      "---  ------                 --------------  -----  \n",
      " 0   day                    48 non-null     int64  \n",
      " 1   slide                  48 non-null     int64  \n",
      " 2   subslide               48 non-null     int64  \n",
      " 3   tissue area fraction   48 non-null     float64\n",
      " 4   r1                     48 non-null     int64  \n",
      " 5   length of tissue (px)  48 non-null     int64  \n",
      " 6   width of tissue (px)   48 non-null     float64\n",
      " 7   number_of_lumens       48 non-null     int64  \n",
      " 8   R_equiv                48 non-null     float64\n",
      " 9   Rmidpoint              48 non-null     float64\n",
      " 10  T_tilde                48 non-null     float64\n",
      " 11  area of tissue (px^2)  48 non-null     float64\n",
      " 12  area of tissue se2     48 non-null     float64\n",
      " 13  area of tissue se3     48 non-null     float64\n",
      " 14  area of tissue se4     48 non-null     float64\n",
      " 15  area of tissue se5     48 non-null     float64\n",
      " 16  area of tissue se6     48 non-null     float64\n",
      " 17  area of tissue se7     48 non-null     float64\n",
      " 18  area of tissue se8     48 non-null     float64\n",
      " 19  area of tissue se9     48 non-null     float64\n",
      " 20  area of tissue se10    48 non-null     float64\n",
      " 21  ID                     48 non-null     int64  \n",
      " 22  MLI                    48 non-null     float64\n",
      " 23  MLI_edit pics          48 non-null     float64\n",
      "dtypes: float64(17), int64(7)\n",
      "memory usage: 9.4+ KB\n",
      "None\n"
     ]
    }
   ],
   "source": [
    "# Index temperatures by treatment and Ventilation\n",
    "df_ind = df.set_index([\"AN Tx\",\"Ventilation\"])\n",
    "\n",
    "# List of tuples\n",
    "rows_to_keep = [(\"SAL\",\"NV\"), (\"ETX\", \"P24\")]\n",
    "\n",
    "# Subset for rows to keep\n",
    "print(df_ind.loc[rows_to_keep].info())"
   ]
  },
  {
   "cell_type": "code",
   "execution_count": 5,
   "id": "f0f07f48",
   "metadata": {},
   "outputs": [],
   "source": [
    "from sklearn.model_selection import train_test_split"
   ]
  },
  {
   "cell_type": "code",
   "execution_count": 6,
   "id": "9209e066",
   "metadata": {},
   "outputs": [],
   "source": [
    "X = df[\"T_tilde\"].values.reshape(-1, 1) \n",
    "y = df[\"AN Tx\"]\n",
    "X_train, X_test, y_train, y_test = train_test_split(X,y, test_size = 0.2, random_state=42, stratify=y)"
   ]
  },
  {
   "cell_type": "code",
   "execution_count": 7,
   "id": "888a9d93",
   "metadata": {},
   "outputs": [],
   "source": [
    "from sklearn.ensemble import RandomForestClassifier\n"
   ]
  },
  {
   "cell_type": "code",
   "execution_count": 8,
   "id": "047c64f3",
   "metadata": {},
   "outputs": [],
   "source": [
    "# Create an instance of the classifier\n",
    "classifier = RandomForestClassifier(max_depth=2, random_state=0)\n",
    "\n",
    "# Train the classifier\n",
    "classifier = classifier.fit(X_train , y_train)"
   ]
  },
  {
   "cell_type": "code",
   "execution_count": 9,
   "id": "387e4623",
   "metadata": {},
   "outputs": [
    {
     "name": "stdout",
     "output_type": "stream",
     "text": [
      "Let's look at the classifier score:  0.6170212765957447\n"
     ]
    }
   ],
   "source": [
    "print(\"Let's look at the classifier score: \", (classifier.score(X_test, y_test)))"
   ]
  },
  {
   "cell_type": "code",
   "execution_count": 10,
   "id": "5baa0047",
   "metadata": {},
   "outputs": [],
   "source": [
    "y_pred = classifier.predict(X_test)\n",
    "\n",
    "new_df = pd.DataFrame()\n",
    "\n"
   ]
  },
  {
   "cell_type": "code",
   "execution_count": 24,
   "id": "c02738cc",
   "metadata": {},
   "outputs": [],
   "source": [
    "# print(X_test.reshape(-1,1))\n",
    "# indx = ['Row'+str(i) for i in range(1, len(X_test)-1)]\n",
    "# indx = np.array(indx).reshape(-1,1)\n",
    "# print(indx.shape)\n",
    "# print(X_test.flatten().shape)\n",
    "X_test = X_test.flatten()\n",
    "# y_pred\n",
    "dataset = pd.DataFrame({'T_tilde': X_test, 'AN Tx': y_pred})\n",
    "# dfn = pd.DataFrame([X_test,y_pred], columns = ['Column_A','Column_B'])\n",
    "\n",
    "# print(np.concatenate((X_test.flatten(), y_pred), axis=1))"
   ]
  },
  {
   "cell_type": "code",
   "execution_count": 25,
   "id": "6cb1382a",
   "metadata": {},
   "outputs": [
    {
     "data": {
      "text/html": [
       "<div>\n",
       "<style scoped>\n",
       "    .dataframe tbody tr th:only-of-type {\n",
       "        vertical-align: middle;\n",
       "    }\n",
       "\n",
       "    .dataframe tbody tr th {\n",
       "        vertical-align: top;\n",
       "    }\n",
       "\n",
       "    .dataframe thead th {\n",
       "        text-align: right;\n",
       "    }\n",
       "</style>\n",
       "<table border=\"1\" class=\"dataframe\">\n",
       "  <thead>\n",
       "    <tr style=\"text-align: right;\">\n",
       "      <th></th>\n",
       "      <th>T_tilde</th>\n",
       "      <th>AN Tx</th>\n",
       "    </tr>\n",
       "  </thead>\n",
       "  <tbody>\n",
       "    <tr>\n",
       "      <th>0</th>\n",
       "      <td>36.215598</td>\n",
       "      <td>ETX</td>\n",
       "    </tr>\n",
       "    <tr>\n",
       "      <th>1</th>\n",
       "      <td>16.678862</td>\n",
       "      <td>SAL</td>\n",
       "    </tr>\n",
       "    <tr>\n",
       "      <th>2</th>\n",
       "      <td>30.058854</td>\n",
       "      <td>SAL</td>\n",
       "    </tr>\n",
       "    <tr>\n",
       "      <th>3</th>\n",
       "      <td>33.197219</td>\n",
       "      <td>ETX</td>\n",
       "    </tr>\n",
       "    <tr>\n",
       "      <th>4</th>\n",
       "      <td>35.548048</td>\n",
       "      <td>ETX</td>\n",
       "    </tr>\n",
       "  </tbody>\n",
       "</table>\n",
       "</div>"
      ],
      "text/plain": [
       "     T_tilde AN Tx\n",
       "0  36.215598   ETX\n",
       "1  16.678862   SAL\n",
       "2  30.058854   SAL\n",
       "3  33.197219   ETX\n",
       "4  35.548048   ETX"
      ]
     },
     "execution_count": 25,
     "metadata": {},
     "output_type": "execute_result"
    }
   ],
   "source": [
    "# new_df['y_test'] = y_test.values new_df['X_test'] =\n",
    "\n",
    "dataset.head()"
   ]
  },
  {
   "cell_type": "code",
   "execution_count": 28,
   "id": "9987d0c4",
   "metadata": {},
   "outputs": [
    {
     "data": {
      "text/plain": [
       "AN Tx\n",
       "ETX    AxesSubplot(0.125,0.125;0.775x0.755)\n",
       "SAL    AxesSubplot(0.125,0.125;0.775x0.755)\n",
       "dtype: object"
      ]
     },
     "execution_count": 28,
     "metadata": {},
     "output_type": "execute_result"
    },
    {
     "data": {
      "image/png": "[encoded data removed]",
      "text/plain": [
       "<Figure size 432x288 with 1 Axes>"
      ]
     },
     "metadata": {
      "needs_background": "light"
     },
     "output_type": "display_data"
    },
    {
     "data": {
      "image/png": "[encoded data removed]",
      "text/plain": [
       "<Figure size 432x288 with 1 Axes>"
      ]
     },
     "metadata": {
      "needs_background": "light"
     },
     "output_type": "display_data"
    }
   ],
   "source": [
    "dataset.groupby('AN Tx').plot(kind = 'bar')"
   ]
  },
  {
   "cell_type": "code",
   "execution_count": 34,
   "id": "e390c930",
   "metadata": {},
   "outputs": [],
   "source": [
    "# dataset.groupby('AN Tx').plot.hist()\n",
    "# dataset.plot.hist(by =[\"AN Tx\"] )"
   ]
  },
  {
   "cell_type": "code",
   "execution_count": 45,
   "id": "b121582d",
   "metadata": {},
   "outputs": [
    {
     "data": {
      "text/plain": [
       "AN Tx\n",
       "ETX    AxesSubplot(0.125,0.125;0.62x0.755)\n",
       "SAL    AxesSubplot(0.125,0.125;0.62x0.755)\n",
       "dtype: object"
      ]
     },
     "execution_count": 45,
     "metadata": {},
     "output_type": "execute_result"
    },
    {
     "data": {
      "image/png": "[encoded data removed]",
      "text/plain": [
       "<Figure size 432x288 with 2 Axes>"
      ]
     },
     "metadata": {
      "needs_background": "light"
     },
     "output_type": "display_data"
    },
    {
     "data": {
      "image/png": "[encoded data removed]",
      "text/plain": [
       "<Figure size 432x288 with 2 Axes>"
      ]
     },
     "metadata": {
      "needs_background": "light"
     },
     "output_type": "display_data"
    }
   ],
   "source": [
    "df.groupby([\"AN Tx\"]).plot(\"MLI\",\"width of tissue (px)\",c = 'day',cmap = 'viridis', kind = 'scatter')"
   ]
  },
  {
   "cell_type": "raw",
   "id": "b6e91a5a",
   "metadata": {},
   "source": [
    "# looks like tissue width and MLI may be correlated for day 7 and ETX"
   ]
  },
  {
   "cell_type": "markdown",
   "id": "4ea4db91",
   "metadata": {},
   "source": [
    " # Apply Linear Regression"
   ]
  },
  {
   "cell_type": "markdown",
   "id": "c1f8eedf",
   "metadata": {},
   "source": []
  },
  {
   "cell_type": "code",
   "execution_count": 67,
   "id": "d2ada6d9",
   "metadata": {},
   "outputs": [],
   "source": [
    "from sklearn.linear_model import LinearRegression\n",
    "from sklearn.metrics import mean_squared_error\n",
    "from sklearn.model_selection import cross_val_score\n",
    "import matplotlib.pyplot as plt"
   ]
  },
  {
   "cell_type": "code",
   "execution_count": 52,
   "id": "3cf8f010",
   "metadata": {},
   "outputs": [],
   "source": [
    "linReg = LinearRegression()\n",
    "\n",
    "X = df['MLI'].values.reshape(-1, 1)\n",
    "y = df['width of tissue (px)']\n"
   ]
  },
  {
   "cell_type": "code",
   "execution_count": 54,
   "id": "72a29d76",
   "metadata": {},
   "outputs": [],
   "source": [
    "X_train, X_test, y_train, y_test = train_test_split(X, y, test_size = 0.25, random_state=42)"
   ]
  },
  {
   "cell_type": "code",
   "execution_count": 55,
   "id": "58fda391",
   "metadata": {},
   "outputs": [
    {
     "data": {
      "text/plain": [
       "LinearRegression()"
      ]
     },
     "execution_count": 55,
     "metadata": {},
     "output_type": "execute_result"
    }
   ],
   "source": [
    "linReg.fit(X_train, y_train)"
   ]
  },
  {
   "cell_type": "code",
   "execution_count": 57,
   "id": "5ad6c761",
   "metadata": {},
   "outputs": [],
   "source": [
    "y_pred = linReg.predict(X_test)"
   ]
  },
  {
   "cell_type": "code",
   "execution_count": 73,
   "id": "8fb76174",
   "metadata": {},
   "outputs": [],
   "source": [
    "# Compute the 5-fold cross-validation scores\n",
    "cv_scores = cross_val_score(linReg,X,y, cv = 5)"
   ]
  },
  {
   "cell_type": "code",
   "execution_count": 74,
   "id": "db821b83",
   "metadata": {},
   "outputs": [
    {
     "name": "stdout",
     "output_type": "stream",
     "text": [
      "Average 5-Fold CV Score: -0.2972845018568161\n"
     ]
    }
   ],
   "source": [
    "print(\"Average 5-Fold CV Score: {}\".format(np.mean(cv_scores)))"
   ]
  },
  {
   "cell_type": "code",
   "execution_count": 60,
   "id": "ea033b79",
   "metadata": {},
   "outputs": [
    {
     "name": "stdout",
     "output_type": "stream",
     "text": [
      "Root Mean Squared Error: 13.051751213152231\n"
     ]
    }
   ],
   "source": [
    "rmse = np.sqrt(mean_squared_error(y_test,y_pred))\n",
    "print(\"Root Mean Squared Error: {}\".format(rmse))"
   ]
  },
  {
   "cell_type": "code",
   "execution_count": 68,
   "id": "658df4a7",
   "metadata": {},
   "outputs": [
    {
     "data": {
      "image/png": "[encoded data removed]",
      "text/plain": [
       "<Figure size 432x288 with 1 Axes>"
      ]
     },
     "metadata": {
      "needs_background": "light"
     },
     "output_type": "display_data"
    }
   ],
   "source": [
    "plt.plot(X_test, y_pred, color='black', linewidth=3)\n",
    "plt.scatter(X, y, color='blue')\n",
    "plt.show()"
   ]
  },
  {
   "cell_type": "code",
   "execution_count": null,
   "id": "c29db586",
   "metadata": {},
   "outputs": [],
   "source": []
  }
 ],
 "metadata": {
  "kernelspec": {
   "display_name": "Python 3 (ipykernel)",
   "language": "python",
   "name": "python3"
  },
  "language_info": {
   "codemirror_mode": {
    "name": "ipython",
    "version": 3
   },
   "file_extension": ".py",
   "mimetype": "text/x-python",
   "name": "python",
   "nbconvert_exporter": "python",
   "pygments_lexer": "ipython3",
   "version": "3.10.8"
  }
 },
 "nbformat": 4,
 "nbformat_minor": 5
}
