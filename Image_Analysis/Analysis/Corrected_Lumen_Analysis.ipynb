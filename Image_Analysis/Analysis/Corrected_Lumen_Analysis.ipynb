{
 "cells": [
  {
   "cell_type": "code",
   "execution_count": 12,
   "id": "06f26949",
   "metadata": {},
   "outputs": [],
   "source": [
    "import pandas as pd\n",
    "import numpy as np\n",
    "import seaborn as sns\n",
    "from scipy.stats import pearsonr\n",
    "\n",
    "\n",
    "import matplotlib.pyplot as plt\n",
    "%matplotlib inline"
   ]
  },
  {
   "cell_type": "code",
   "execution_count": 5,
   "id": "2a4be759",
   "metadata": {},
   "outputs": [],
   "source": [
    "df = pd.read_excel(\"image_data_complete_oldMLI.xlsx\")"
   ]
  },
  {
   "cell_type": "code",
   "execution_count": 7,
   "id": "25db11b4",
   "metadata": {},
   "outputs": [
    {
     "name": "stdout",
     "output_type": "stream",
     "text": [
      "<class 'pandas.core.frame.DataFrame'>\n",
      "RangeIndex: 424 entries, 0 to 423\n",
      "Data columns (total 33 columns):\n",
      " #   Column                     Non-Null Count  Dtype  \n",
      "---  ------                     --------------  -----  \n",
      " 0   indx                       424 non-null    int64  \n",
      " 1   day                        424 non-null    int64  \n",
      " 2   slide                      424 non-null    int64  \n",
      " 3   subslide                   424 non-null    int64  \n",
      " 4   tissue area fraction       424 non-null    float64\n",
      " 5   length of tissue (px)      424 non-null    int64  \n",
      " 6   width of tissue (px)       424 non-null    float64\n",
      " 7   number_of_lumens           424 non-null    int64  \n",
      " 8   R_equiv                    424 non-null    float64\n",
      " 9   Rmidpoint                  424 non-null    float64\n",
      " 10  T_tilde                    424 non-null    float64\n",
      " 11  area of tissue (px^2)      424 non-null    float64\n",
      " 12  area of tissue se1         424 non-null    float64\n",
      " 13  area of tissue se2         424 non-null    float64\n",
      " 14  area of tissue se3         424 non-null    float64\n",
      " 15  area of tissue se4         424 non-null    float64\n",
      " 16  area of tissue se5         424 non-null    float64\n",
      " 17  area of tissue se6         424 non-null    float64\n",
      " 18  area of tissue se7         424 non-null    float64\n",
      " 19  area of tissue se8         424 non-null    float64\n",
      " 20  area of tissue se9         424 non-null    float64\n",
      " 21  area of tissue se10        424 non-null    float64\n",
      " 22  AN Tx                      424 non-null    object \n",
      " 23  Ventilation                424 non-null    object \n",
      " 24  MLI                        424 non-null    float64\n",
      " 25  MLI_edit pics              424 non-null    float64\n",
      " 26  num_int_lumens_p_half_ext  424 non-null    float64\n",
      " 27  num_int_lumens             424 non-null    int64  \n",
      " 28  total_int_lumen_area       424 non-null    int64  \n",
      " 29  meanR_equiv_int            424 non-null    float64\n",
      " 30  Rmidpoint_int              424 non-null    float64\n",
      " 31  T_int                      424 non-null    float64\n",
      " 32  corrected_lumens           424 non-null    float64\n",
      "dtypes: float64(23), int64(8), object(2)\n",
      "memory usage: 109.4+ KB\n"
     ]
    }
   ],
   "source": [
    "df.info()"
   ]
  },
  {
   "cell_type": "code",
   "execution_count": 9,
   "id": "e1d4f6b5",
   "metadata": {},
   "outputs": [],
   "source": [
    "df2 = df.loc[:,['corrected_lumens', 'number_of_lumens','num_int_lumens_p_half_ext']]\n"
   ]
  },
  {
   "cell_type": "code",
   "execution_count": 10,
   "id": "4d41f5ef",
   "metadata": {},
   "outputs": [
    {
     "data": {
      "text/html": [
       "<div>\n",
       "<style scoped>\n",
       "    .dataframe tbody tr th:only-of-type {\n",
       "        vertical-align: middle;\n",
       "    }\n",
       "\n",
       "    .dataframe tbody tr th {\n",
       "        vertical-align: top;\n",
       "    }\n",
       "\n",
       "    .dataframe thead th {\n",
       "        text-align: right;\n",
       "    }\n",
       "</style>\n",
       "<table border=\"1\" class=\"dataframe\">\n",
       "  <thead>\n",
       "    <tr style=\"text-align: right;\">\n",
       "      <th></th>\n",
       "      <th>corrected_lumens</th>\n",
       "      <th>number_of_lumens</th>\n",
       "      <th>num_int_lumens_p_half_ext</th>\n",
       "    </tr>\n",
       "  </thead>\n",
       "  <tbody>\n",
       "    <tr>\n",
       "      <th>corrected_lumens</th>\n",
       "      <td>1.000000</td>\n",
       "      <td>0.999926</td>\n",
       "      <td>0.995881</td>\n",
       "    </tr>\n",
       "    <tr>\n",
       "      <th>number_of_lumens</th>\n",
       "      <td>0.999926</td>\n",
       "      <td>1.000000</td>\n",
       "      <td>0.995718</td>\n",
       "    </tr>\n",
       "    <tr>\n",
       "      <th>num_int_lumens_p_half_ext</th>\n",
       "      <td>0.995881</td>\n",
       "      <td>0.995718</td>\n",
       "      <td>1.000000</td>\n",
       "    </tr>\n",
       "  </tbody>\n",
       "</table>\n",
       "</div>"
      ],
      "text/plain": [
       "                           corrected_lumens  number_of_lumens  \\\n",
       "corrected_lumens                   1.000000          0.999926   \n",
       "number_of_lumens                   0.999926          1.000000   \n",
       "num_int_lumens_p_half_ext          0.995881          0.995718   \n",
       "\n",
       "                           num_int_lumens_p_half_ext  \n",
       "corrected_lumens                            0.995881  \n",
       "number_of_lumens                            0.995718  \n",
       "num_int_lumens_p_half_ext                   1.000000  "
      ]
     },
     "execution_count": 10,
     "metadata": {},
     "output_type": "execute_result"
    }
   ],
   "source": [
    "df2.corr()"
   ]
  },
  {
   "cell_type": "code",
   "execution_count": 15,
   "id": "0e53c7f6",
   "metadata": {},
   "outputs": [
    {
     "data": {
      "text/plain": [
       "PearsonRResult(statistic=0.9957180452328355, pvalue=0.0)"
      ]
     },
     "execution_count": 15,
     "metadata": {},
     "output_type": "execute_result"
    }
   ],
   "source": [
    "pearsonr(df2.iloc[:,1],df2.iloc[:,2])"
   ]
  },
  {
   "cell_type": "code",
   "execution_count": 19,
   "id": "ddceb2e6",
   "metadata": {},
   "outputs": [
    {
     "data": {
      "text/html": [
       "<div>\n",
       "<style scoped>\n",
       "    .dataframe tbody tr th:only-of-type {\n",
       "        vertical-align: middle;\n",
       "    }\n",
       "\n",
       "    .dataframe tbody tr th {\n",
       "        vertical-align: top;\n",
       "    }\n",
       "\n",
       "    .dataframe thead th {\n",
       "        text-align: right;\n",
       "    }\n",
       "</style>\n",
       "<table border=\"1\" class=\"dataframe\">\n",
       "  <thead>\n",
       "    <tr style=\"text-align: right;\">\n",
       "      <th></th>\n",
       "      <th>corrected_lumens</th>\n",
       "      <th>number_of_lumens</th>\n",
       "      <th>num_int_lumens_p_half_ext</th>\n",
       "    </tr>\n",
       "  </thead>\n",
       "  <tbody>\n",
       "    <tr>\n",
       "      <th>corrected_lumens</th>\n",
       "      <td>0.0</td>\n",
       "      <td>0.0</td>\n",
       "      <td>0.0</td>\n",
       "    </tr>\n",
       "    <tr>\n",
       "      <th>number_of_lumens</th>\n",
       "      <td>0.0</td>\n",
       "      <td>0.0</td>\n",
       "      <td>0.0</td>\n",
       "    </tr>\n",
       "    <tr>\n",
       "      <th>num_int_lumens_p_half_ext</th>\n",
       "      <td>0.0</td>\n",
       "      <td>0.0</td>\n",
       "      <td>0.0</td>\n",
       "    </tr>\n",
       "  </tbody>\n",
       "</table>\n",
       "</div>"
      ],
      "text/plain": [
       "                           corrected_lumens  number_of_lumens  \\\n",
       "corrected_lumens                        0.0               0.0   \n",
       "number_of_lumens                        0.0               0.0   \n",
       "num_int_lumens_p_half_ext               0.0               0.0   \n",
       "\n",
       "                           num_int_lumens_p_half_ext  \n",
       "corrected_lumens                                 0.0  \n",
       "number_of_lumens                                 0.0  \n",
       "num_int_lumens_p_half_ext                        0.0  "
      ]
     },
     "execution_count": 19,
     "metadata": {},
     "output_type": "execute_result"
    }
   ],
   "source": [
    "rho = df2.corr()\n",
    "df2.corr(method=lambda x, y: pearsonr(x, y)[1])"
   ]
  },
  {
   "cell_type": "code",
   "execution_count": 20,
   "id": "2e103606",
   "metadata": {},
   "outputs": [],
   "source": [
    "from scipy.stats import wasserstein_distance"
   ]
  },
  {
   "cell_type": "code",
   "execution_count": 21,
   "id": "1a27cf6f",
   "metadata": {},
   "outputs": [
    {
     "data": {
      "text/plain": [
       "13.020047169811322"
      ]
     },
     "execution_count": 21,
     "metadata": {},
     "output_type": "execute_result"
    }
   ],
   "source": [
    "wasserstein_distance(df2.iloc[:,1],df2.iloc[:,2])"
   ]
  },
  {
   "cell_type": "code",
   "execution_count": 22,
   "id": "f3aeb77b",
   "metadata": {},
   "outputs": [
    {
     "data": {
      "text/plain": [
       "2.3405205767031587"
      ]
     },
     "execution_count": 22,
     "metadata": {},
     "output_type": "execute_result"
    }
   ],
   "source": [
    "wasserstein_distance(df2.iloc[:,0],df2.iloc[:,2])"
   ]
  },
  {
   "cell_type": "code",
   "execution_count": 25,
   "id": "bcabb62b",
   "metadata": {},
   "outputs": [],
   "source": [
    "df2 = df2.assign(error_corrected_count = lambda x: (abs(x['corrected_lumens']-x['num_int_lumens_p_half_ext']) /x['num_int_lumens_p_half_ext']))\n",
    "\n",
    "df2 = df2.assign(error_original_count = lambda x: (abs(x['number_of_lumens']-x['num_int_lumens_p_half_ext']) /x['num_int_lumens_p_half_ext']))\n"
   ]
  },
  {
   "cell_type": "code",
   "execution_count": 33,
   "id": "ca92b282",
   "metadata": {},
   "outputs": [
    {
     "data": {
      "text/plain": [
       "<AxesSubplot: >"
      ]
     },
     "execution_count": 33,
     "metadata": {},
     "output_type": "execute_result"
    },
    {
     "data": {
      "image/png": "[encoded data removed]",
      "text/plain": [
       "<Figure size 640x480 with 1 Axes>"
      ]
     },
     "metadata": {},
     "output_type": "display_data"
    }
   ],
   "source": [
    "df2[['error_corrected_count','error_original_count']].plot(marker = 'o',linestyle=' ')"
   ]
  },
  {
   "cell_type": "code",
   "execution_count": null,
   "id": "9ace0e0f",
   "metadata": {},
   "outputs": [],
   "source": []
  }
 ],
 "metadata": {
  "kernelspec": {
   "display_name": "Python 3 (ipykernel)",
   "language": "python",
   "name": "python3"
  },
  "language_info": {
   "codemirror_mode": {
    "name": "ipython",
    "version": 3
   },
   "file_extension": ".py",
   "mimetype": "text/x-python",
   "name": "python",
   "nbconvert_exporter": "python",
   "pygments_lexer": "ipython3",
   "version": "3.10.8"
  }
 },
 "nbformat": 4,
 "nbformat_minor": 5
}
