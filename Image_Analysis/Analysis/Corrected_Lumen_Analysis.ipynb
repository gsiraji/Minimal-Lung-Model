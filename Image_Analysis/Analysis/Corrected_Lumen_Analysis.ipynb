{
 "cells": [
  {
   "cell_type": "code",
   "execution_count": 29,
   "id": "b862d1dd",
   "metadata": {},
   "outputs": [],
   "source": [
    "import pandas as pd\n",
    "import numpy as np\n",
    "import seaborn as sns\n",
    "from scipy.stats import pearsonr\n",
    "\n",
    "\n",
    "import matplotlib.pyplot as plt\n",
    "%matplotlib inline\n",
    "\n",
    "from sklearn.metrics import mean_squared_error\n"
   ]
  },
  {
   "cell_type": "code",
   "execution_count": 2,
   "id": "8bb6ae24",
   "metadata": {},
   "outputs": [],
   "source": [
    "df = pd.read_excel(\"/Users/tfai/Documents/GitHub/Minimal-Lung-Model/Image_Analysis/image_data_complete_oldMLI.xlsx\")"
   ]
  },
  {
   "cell_type": "code",
   "execution_count": 3,
   "id": "8c443468",
   "metadata": {},
   "outputs": [
    {
     "name": "stdout",
     "output_type": "stream",
     "text": [
      "<class 'pandas.core.frame.DataFrame'>\n",
      "RangeIndex: 424 entries, 0 to 423\n",
      "Data columns (total 33 columns):\n",
      " #   Column                     Non-Null Count  Dtype  \n",
      "---  ------                     --------------  -----  \n",
      " 0   indx                       424 non-null    int64  \n",
      " 1   day                        424 non-null    int64  \n",
      " 2   slide                      424 non-null    int64  \n",
      " 3   subslide                   424 non-null    int64  \n",
      " 4   tissue area fraction       424 non-null    float64\n",
      " 5   length of tissue (px)      424 non-null    int64  \n",
      " 6   width of tissue (px)       424 non-null    float64\n",
      " 7   number_of_lumens           424 non-null    int64  \n",
      " 8   R_equiv                    424 non-null    float64\n",
      " 9   Rmidpoint                  424 non-null    float64\n",
      " 10  T_tilde                    424 non-null    float64\n",
      " 11  area of tissue (px^2)      424 non-null    float64\n",
      " 12  area of tissue se1         424 non-null    float64\n",
      " 13  area of tissue se2         424 non-null    float64\n",
      " 14  area of tissue se3         424 non-null    float64\n",
      " 15  area of tissue se4         424 non-null    float64\n",
      " 16  area of tissue se5         424 non-null    float64\n",
      " 17  area of tissue se6         424 non-null    float64\n",
      " 18  area of tissue se7         424 non-null    float64\n",
      " 19  area of tissue se8         424 non-null    float64\n",
      " 20  area of tissue se9         424 non-null    float64\n",
      " 21  area of tissue se10        424 non-null    float64\n",
      " 22  AN Tx                      424 non-null    object \n",
      " 23  Ventilation                424 non-null    object \n",
      " 24  MLI                        424 non-null    float64\n",
      " 25  MLI_edit pics              424 non-null    float64\n",
      " 26  num_int_lumens_p_half_ext  424 non-null    float64\n",
      " 27  num_int_lumens             424 non-null    int64  \n",
      " 28  total_int_lumen_area       424 non-null    int64  \n",
      " 29  meanR_equiv_int            424 non-null    float64\n",
      " 30  Rmidpoint_int              424 non-null    float64\n",
      " 31  T_int                      424 non-null    float64\n",
      " 32  corrected_lumens           424 non-null    float64\n",
      "dtypes: float64(23), int64(8), object(2)\n",
      "memory usage: 109.4+ KB\n"
     ]
    }
   ],
   "source": [
    "df.info()"
   ]
  },
  {
   "cell_type": "code",
   "execution_count": 6,
   "id": "2e10c4d7",
   "metadata": {},
   "outputs": [],
   "source": [
    "# take only what you need for lumen analysis\n",
    "df2 = df.loc[:,['corrected_lumens', 'number_of_lumens','num_int_lumens_p_half_ext']]\n",
    "\n",
    "#rename columns for convenience\n",
    "df2 = df2.rename(columns={\"corrected_lumens\": \"corrected\", \"number_of_lumens\": \"raw\", \"num_int_lumens_p_half_ext\": \"manual\"})\n",
    "\n"
   ]
  },
  {
   "cell_type": "code",
   "execution_count": 7,
   "id": "c6b1e433",
   "metadata": {},
   "outputs": [
    {
     "data": {
      "text/html": [
       "<div>\n",
       "<style scoped>\n",
       "    .dataframe tbody tr th:only-of-type {\n",
       "        vertical-align: middle;\n",
       "    }\n",
       "\n",
       "    .dataframe tbody tr th {\n",
       "        vertical-align: top;\n",
       "    }\n",
       "\n",
       "    .dataframe thead th {\n",
       "        text-align: right;\n",
       "    }\n",
       "</style>\n",
       "<table border=\"1\" class=\"dataframe\">\n",
       "  <thead>\n",
       "    <tr style=\"text-align: right;\">\n",
       "      <th></th>\n",
       "      <th>corrected</th>\n",
       "      <th>raw</th>\n",
       "      <th>manual</th>\n",
       "    </tr>\n",
       "  </thead>\n",
       "  <tbody>\n",
       "    <tr>\n",
       "      <th>corrected</th>\n",
       "      <td>1.000000</td>\n",
       "      <td>0.999926</td>\n",
       "      <td>0.995881</td>\n",
       "    </tr>\n",
       "    <tr>\n",
       "      <th>raw</th>\n",
       "      <td>0.999926</td>\n",
       "      <td>1.000000</td>\n",
       "      <td>0.995718</td>\n",
       "    </tr>\n",
       "    <tr>\n",
       "      <th>manual</th>\n",
       "      <td>0.995881</td>\n",
       "      <td>0.995718</td>\n",
       "      <td>1.000000</td>\n",
       "    </tr>\n",
       "  </tbody>\n",
       "</table>\n",
       "</div>"
      ],
      "text/plain": [
       "           corrected       raw    manual\n",
       "corrected   1.000000  0.999926  0.995881\n",
       "raw         0.999926  1.000000  0.995718\n",
       "manual      0.995881  0.995718  1.000000"
      ]
     },
     "execution_count": 7,
     "metadata": {},
     "output_type": "execute_result"
    }
   ],
   "source": [
    "df2.corr()"
   ]
  },
  {
   "cell_type": "code",
   "execution_count": 8,
   "id": "1d23dbb8",
   "metadata": {},
   "outputs": [
    {
     "data": {
      "text/plain": [
       "PearsonRResult(statistic=0.9957180452328355, pvalue=0.0)"
      ]
     },
     "execution_count": 8,
     "metadata": {},
     "output_type": "execute_result"
    }
   ],
   "source": [
    "pearsonr(df2.iloc[:,1],df2.iloc[:,2])"
   ]
  },
  {
   "cell_type": "code",
   "execution_count": 9,
   "id": "20622a64",
   "metadata": {},
   "outputs": [
    {
     "data": {
      "text/html": [
       "<div>\n",
       "<style scoped>\n",
       "    .dataframe tbody tr th:only-of-type {\n",
       "        vertical-align: middle;\n",
       "    }\n",
       "\n",
       "    .dataframe tbody tr th {\n",
       "        vertical-align: top;\n",
       "    }\n",
       "\n",
       "    .dataframe thead th {\n",
       "        text-align: right;\n",
       "    }\n",
       "</style>\n",
       "<table border=\"1\" class=\"dataframe\">\n",
       "  <thead>\n",
       "    <tr style=\"text-align: right;\">\n",
       "      <th></th>\n",
       "      <th>corrected</th>\n",
       "      <th>raw</th>\n",
       "      <th>manual</th>\n",
       "    </tr>\n",
       "  </thead>\n",
       "  <tbody>\n",
       "    <tr>\n",
       "      <th>corrected</th>\n",
       "      <td>1.0</td>\n",
       "      <td>0.0</td>\n",
       "      <td>0.0</td>\n",
       "    </tr>\n",
       "    <tr>\n",
       "      <th>raw</th>\n",
       "      <td>0.0</td>\n",
       "      <td>1.0</td>\n",
       "      <td>0.0</td>\n",
       "    </tr>\n",
       "    <tr>\n",
       "      <th>manual</th>\n",
       "      <td>0.0</td>\n",
       "      <td>0.0</td>\n",
       "      <td>1.0</td>\n",
       "    </tr>\n",
       "  </tbody>\n",
       "</table>\n",
       "</div>"
      ],
      "text/plain": [
       "           corrected  raw  manual\n",
       "corrected        1.0  0.0     0.0\n",
       "raw              0.0  1.0     0.0\n",
       "manual           0.0  0.0     1.0"
      ]
     },
     "execution_count": 9,
     "metadata": {},
     "output_type": "execute_result"
    }
   ],
   "source": [
    "rho = df2.corr()\n",
    "df2.corr(method=lambda x, y: pearsonr(x, y)[1])"
   ]
  },
  {
   "cell_type": "code",
   "execution_count": 10,
   "id": "0f847e28",
   "metadata": {},
   "outputs": [],
   "source": [
    "from scipy.stats import wasserstein_distance"
   ]
  },
  {
   "cell_type": "code",
   "execution_count": 12,
   "id": "911edcfb",
   "metadata": {},
   "outputs": [
    {
     "data": {
      "text/plain": [
       "13.020047169811322"
      ]
     },
     "execution_count": 12,
     "metadata": {},
     "output_type": "execute_result"
    }
   ],
   "source": [
    "wasserstein_distance(df2.loc[:,'manual'],df2.loc[:,'raw'])"
   ]
  },
  {
   "cell_type": "code",
   "execution_count": 14,
   "id": "0908e76e",
   "metadata": {},
   "outputs": [
    {
     "data": {
      "text/plain": [
       "2.3405205767031587"
      ]
     },
     "execution_count": 14,
     "metadata": {},
     "output_type": "execute_result"
    }
   ],
   "source": [
    "wasserstein_distance(df2.loc[:,'manual'],df2.loc[:,'corrected'])"
   ]
  },
  {
   "cell_type": "code",
   "execution_count": 15,
   "id": "0b244305",
   "metadata": {},
   "outputs": [],
   "source": [
    "df2 = df2.assign(error_corrected_count = lambda x: (abs(x['corrected']-x['manual']) /x['manual']))\n",
    "\n",
    "df2 = df2.assign(error_original_count = lambda x: (abs(x['raw']-x['manual']) /x['manual']))\n"
   ]
  },
  {
   "cell_type": "code",
   "execution_count": 35,
   "id": "a02c29fc",
   "metadata": {},
   "outputs": [],
   "source": [
    "df2['mse_corrected'] = mean_squared_error(df2['corrected'], df2['manual'])\n",
    "\n",
    "df2['mse_raw'] = mean_squared_error(df2['raw'], df2['manual'])\n",
    "\n"
   ]
  },
  {
   "cell_type": "code",
   "execution_count": 36,
   "id": "db0c26fb",
   "metadata": {},
   "outputs": [
    {
     "data": {
      "text/html": [
       "<div>\n",
       "<style scoped>\n",
       "    .dataframe tbody tr th:only-of-type {\n",
       "        vertical-align: middle;\n",
       "    }\n",
       "\n",
       "    .dataframe tbody tr th {\n",
       "        vertical-align: top;\n",
       "    }\n",
       "\n",
       "    .dataframe thead th {\n",
       "        text-align: right;\n",
       "    }\n",
       "</style>\n",
       "<table border=\"1\" class=\"dataframe\">\n",
       "  <thead>\n",
       "    <tr style=\"text-align: right;\">\n",
       "      <th></th>\n",
       "      <th>corrected</th>\n",
       "      <th>raw</th>\n",
       "      <th>manual</th>\n",
       "      <th>error_corrected_count</th>\n",
       "      <th>error_original_count</th>\n",
       "      <th>mse_corrected</th>\n",
       "      <th>mse_raw</th>\n",
       "    </tr>\n",
       "  </thead>\n",
       "  <tbody>\n",
       "    <tr>\n",
       "      <th>count</th>\n",
       "      <td>424.000000</td>\n",
       "      <td>424.000000</td>\n",
       "      <td>424.000000</td>\n",
       "      <td>424.000000</td>\n",
       "      <td>424.000000</td>\n",
       "      <td>4.240000e+02</td>\n",
       "      <td>4.240000e+02</td>\n",
       "    </tr>\n",
       "    <tr>\n",
       "      <th>mean</th>\n",
       "      <td>60.467262</td>\n",
       "      <td>75.827830</td>\n",
       "      <td>62.807783</td>\n",
       "      <td>0.040282</td>\n",
       "      <td>0.219411</td>\n",
       "      <td>8.831953e+00</td>\n",
       "      <td>1.762600e+02</td>\n",
       "    </tr>\n",
       "    <tr>\n",
       "      <th>std</th>\n",
       "      <td>18.705512</td>\n",
       "      <td>21.129927</td>\n",
       "      <td>19.325113</td>\n",
       "      <td>0.025989</td>\n",
       "      <td>0.052562</td>\n",
       "      <td>3.556911e-15</td>\n",
       "      <td>2.845528e-14</td>\n",
       "    </tr>\n",
       "    <tr>\n",
       "      <th>min</th>\n",
       "      <td>19.229670</td>\n",
       "      <td>28.000000</td>\n",
       "      <td>20.000000</td>\n",
       "      <td>0.000000</td>\n",
       "      <td>0.109005</td>\n",
       "      <td>8.831953e+00</td>\n",
       "      <td>1.762600e+02</td>\n",
       "    </tr>\n",
       "    <tr>\n",
       "      <th>25%</th>\n",
       "      <td>46.379501</td>\n",
       "      <td>60.000000</td>\n",
       "      <td>48.000000</td>\n",
       "      <td>0.020273</td>\n",
       "      <td>0.180277</td>\n",
       "      <td>8.831953e+00</td>\n",
       "      <td>1.762600e+02</td>\n",
       "    </tr>\n",
       "    <tr>\n",
       "      <th>50%</th>\n",
       "      <td>59.121948</td>\n",
       "      <td>74.500000</td>\n",
       "      <td>61.250000</td>\n",
       "      <td>0.038041</td>\n",
       "      <td>0.213115</td>\n",
       "      <td>8.831953e+00</td>\n",
       "      <td>1.762600e+02</td>\n",
       "    </tr>\n",
       "    <tr>\n",
       "      <th>75%</th>\n",
       "      <td>74.040680</td>\n",
       "      <td>91.250000</td>\n",
       "      <td>77.500000</td>\n",
       "      <td>0.056555</td>\n",
       "      <td>0.246893</td>\n",
       "      <td>8.831953e+00</td>\n",
       "      <td>1.762600e+02</td>\n",
       "    </tr>\n",
       "    <tr>\n",
       "      <th>max</th>\n",
       "      <td>143.077037</td>\n",
       "      <td>167.000000</td>\n",
       "      <td>149.000000</td>\n",
       "      <td>0.135626</td>\n",
       "      <td>0.450000</td>\n",
       "      <td>8.831953e+00</td>\n",
       "      <td>1.762600e+02</td>\n",
       "    </tr>\n",
       "  </tbody>\n",
       "</table>\n",
       "</div>"
      ],
      "text/plain": [
       "        corrected         raw      manual  error_corrected_count   \n",
       "count  424.000000  424.000000  424.000000             424.000000  \\\n",
       "mean    60.467262   75.827830   62.807783               0.040282   \n",
       "std     18.705512   21.129927   19.325113               0.025989   \n",
       "min     19.229670   28.000000   20.000000               0.000000   \n",
       "25%     46.379501   60.000000   48.000000               0.020273   \n",
       "50%     59.121948   74.500000   61.250000               0.038041   \n",
       "75%     74.040680   91.250000   77.500000               0.056555   \n",
       "max    143.077037  167.000000  149.000000               0.135626   \n",
       "\n",
       "       error_original_count  mse_corrected       mse_raw  \n",
       "count            424.000000   4.240000e+02  4.240000e+02  \n",
       "mean               0.219411   8.831953e+00  1.762600e+02  \n",
       "std                0.052562   3.556911e-15  2.845528e-14  \n",
       "min                0.109005   8.831953e+00  1.762600e+02  \n",
       "25%                0.180277   8.831953e+00  1.762600e+02  \n",
       "50%                0.213115   8.831953e+00  1.762600e+02  \n",
       "75%                0.246893   8.831953e+00  1.762600e+02  \n",
       "max                0.450000   8.831953e+00  1.762600e+02  "
      ]
     },
     "execution_count": 36,
     "metadata": {},
     "output_type": "execute_result"
    }
   ],
   "source": [
    "df2.describe()"
   ]
  },
  {
   "cell_type": "code",
   "execution_count": 28,
   "id": "e4c0dcb2",
   "metadata": {},
   "outputs": [
    {
     "data": {
      "text/plain": [
       "<matplotlib.legend.Legend at 0x136155570>"
      ]
     },
     "execution_count": 28,
     "metadata": {},
     "output_type": "execute_result"
    },
    {
     "data": {
      "image/png": "[encoded data removed]",
      "text/plain": [
       "<Figure size 640x480 with 1 Axes>"
      ]
     },
     "metadata": {},
     "output_type": "display_data"
    }
   ],
   "source": [
    "fig, ax = plt.subplots()\n",
    "ax.plot(df2[['error_corrected_count','error_original_count']], marker = 'o',linestyle=' ')\n",
    "ax.tick_params(\n",
    "    axis='x',          # changes apply to the x-axis\n",
    "    which='both',      # both major and minor ticks are affected\n",
    "    bottom=False,      # ticks along the bottom edge are off\n",
    "    top=False,         # ticks along the top edge are off\n",
    "    labelbottom=False)\n",
    "\n",
    "ax.legend(['error_corrected_count','error_original_count'])"
   ]
  },
  {
   "cell_type": "code",
   "execution_count": 40,
   "id": "47157aa6",
   "metadata": {},
   "outputs": [
    {
     "data": {
      "text/plain": [
       "<matplotlib.legend.Legend at 0x136dc2ef0>"
      ]
     },
     "execution_count": 40,
     "metadata": {},
     "output_type": "execute_result"
    },
    {
     "data": {
      "image/png": "[encoded data removed]",
      "text/plain": [
       "<Figure size 640x480 with 1 Axes>"
      ]
     },
     "metadata": {},
     "output_type": "display_data"
    }
   ],
   "source": [
    "fig, ax = plt.subplots()\n",
    "ax.plot(df2['manual'], df2['corrected'],df2['manual'], df2['raw'], marker = 'o',linestyle=' ')\n",
    "ax.plot(df2['manual'], df2['manual'], color = 'k')\n",
    "ax.tick_params(\n",
    "    axis='x',          # changes apply to the x-axis\n",
    "    which='both',      # both major and minor ticks are affected\n",
    "    bottom=False,      # ticks along the bottom edge are off\n",
    "    top=False,         # ticks along the top edge are off\n",
    "    labelbottom=False)\n",
    "\n",
    "ax.legend(['corrected','raw'])"
   ]
  },
  {
   "cell_type": "code",
   "execution_count": null,
   "id": "2862e5cc",
   "metadata": {},
   "outputs": [],
   "source": []
  },
  {
   "cell_type": "code",
   "execution_count": null,
   "id": "60adbce1",
   "metadata": {},
   "outputs": [],
   "source": []
  },
  {
   "cell_type": "code",
   "execution_count": null,
   "id": "61dbb4d1",
   "metadata": {},
   "outputs": [],
   "source": [
    "\n",
    "\n",
    "\n"
   ]
  },
  {
   "cell_type": "code",
   "execution_count": null,
   "id": "0531a5e9",
   "metadata": {},
   "outputs": [],
   "source": []
  }
 ],
 "metadata": {
  "kernelspec": {
   "display_name": "Python 3 (ipykernel)",
   "language": "python",
   "name": "python3"
  },
  "language_info": {
   "codemirror_mode": {
    "name": "ipython",
    "version": 3
   },
   "file_extension": ".py",
   "mimetype": "text/x-python",
   "name": "python",
   "nbconvert_exporter": "python",
   "pygments_lexer": "ipython3",
   "version": "3.10.8"
  }
 },
 "nbformat": 4,
 "nbformat_minor": 5
}
